{
 "cells": [
  {
   "cell_type": "code",
   "execution_count": 36,
   "metadata": {},
   "outputs": [],
   "source": [
    "import numpy as np\n"
   ]
  },
  {
   "cell_type": "code",
   "execution_count": 37,
   "metadata": {},
   "outputs": [],
   "source": [
    "input_shape = (128, 128, 1)\n",
    "\n",
    "kernel_size_conv1 = (5, 5)\n",
    "num_filters_conv1 = 16\n",
    "stride_conv1 = (1, 1)\n",
    "padding_conv1 = 'same'\n",
    "output_vol_conv1 = (input_shape[0] // stride_conv1[0], input_shape[1] // stride_conv1[1], num_filters_conv1)"
   ]
  },
  {
   "cell_type": "code",
   "execution_count": 38,
   "metadata": {},
   "outputs": [
    {
     "name": "stdout",
     "output_type": "stream",
     "text": [
      "Output Volume after Conv1: (128, 128, 16)\n"
     ]
    }
   ],
   "source": [
    "print(\"Output Volume after Conv1:\", output_vol_conv1)"
   ]
  },
  {
   "cell_type": "code",
   "execution_count": 39,
   "metadata": {},
   "outputs": [],
   "source": [
    "pool_size_maxpool1 = (2, 2)\n",
    "stride_maxpool1 = (2, 2)\n",
    "output_vol_maxpool1 = (output_vol_conv1[0] // stride_maxpool1[0], output_vol_conv1[1] // stride_maxpool1[1], output_vol_conv1[2])"
   ]
  },
  {
   "cell_type": "code",
   "execution_count": 40,
   "metadata": {},
   "outputs": [
    {
     "name": "stdout",
     "output_type": "stream",
     "text": [
      "Output Volume after MaxPool1: {(64, 64, 16)}\n"
     ]
    }
   ],
   "source": [
    "print(\"Output Volume after MaxPool1:\", {output_vol_maxpool1})"
   ]
  },
  {
   "cell_type": "code",
   "execution_count": 41,
   "metadata": {},
   "outputs": [],
   "source": [
    "kernel_size_conv2 = (3, 3)\n",
    "num_filters_conv2 = 32\n",
    "stride_conv2 = (1, 1)\n",
    "padding_conv2 = 'same'\n",
    "output_vol_conv2 = (output_vol_maxpool1[0] // stride_conv2[0], output_vol_maxpool1[1] // stride_conv2[1], num_filters_conv2)"
   ]
  },
  {
   "cell_type": "code",
   "execution_count": 42,
   "metadata": {},
   "outputs": [
    {
     "name": "stdout",
     "output_type": "stream",
     "text": [
      "Output Volume after Convolution Layer 2: {(64, 64, 32)}\n"
     ]
    }
   ],
   "source": [
    "print(\"Output Volume after Convolution Layer 2:\",{output_vol_conv2})"
   ]
  },
  {
   "cell_type": "code",
   "execution_count": 43,
   "metadata": {},
   "outputs": [],
   "source": [
    "pool_size_maxpool2 = (2, 2)\n",
    "stride_maxpool2 = (2, 2)\n",
    "output_vol_maxpool2 = (output_vol_conv2[0] // stride_maxpool2[0], output_vol_conv2[1] // stride_maxpool2[1], output_vol_conv2[2])\n"
   ]
  },
  {
   "cell_type": "code",
   "execution_count": 44,
   "metadata": {},
   "outputs": [
    {
     "name": "stdout",
     "output_type": "stream",
     "text": [
      "Output volume after maxpool2: {(32, 32, 32)}\n"
     ]
    }
   ],
   "source": [
    "print(\"Output volume after maxpool2:\",{output_vol_maxpool2})"
   ]
  },
  {
   "cell_type": "code",
   "execution_count": 45,
   "metadata": {},
   "outputs": [],
   "source": [
    "num_neurons_fc1 = 256\n",
    "output_vol_fc1 = (output_vol_maxpool2[0] * output_vol_maxpool2[1] * output_vol_maxpool2[2], num_neurons_fc1)"
   ]
  },
  {
   "cell_type": "code",
   "execution_count": 46,
   "metadata": {},
   "outputs": [
    {
     "name": "stdout",
     "output_type": "stream",
     "text": [
      "Output Volume after FC1: {(32768, 256)}\n"
     ]
    }
   ],
   "source": [
    "print(\"Output Volume after FC1:\", {output_vol_fc1})"
   ]
  },
  {
   "cell_type": "code",
   "execution_count": 47,
   "metadata": {},
   "outputs": [],
   "source": [
    "num_params_conv1 = (kernel_size_conv1[0] * kernel_size_conv1[1] * input_shape[2] + 1) * num_filters_conv1\n",
    "num_params_conv2 = (kernel_size_conv2[0] * kernel_size_conv2[1] * output_vol_conv1[2] + 1) * num_filters_conv2"
   ]
  },
  {
   "cell_type": "code",
   "execution_count": 48,
   "metadata": {},
   "outputs": [
    {
     "name": "stdout",
     "output_type": "stream",
     "text": [
      "Total number of parameters in the CNN excluding biases: {5056}\n"
     ]
    }
   ],
   "source": [
    "print(\"Total number of parameters in the CNN excluding biases:\", {num_params_conv1 + num_params_conv2})"
   ]
  }
 ],
 "metadata": {
  "kernelspec": {
   "display_name": "Python 3",
   "language": "python",
   "name": "python3"
  },
  "language_info": {
   "codemirror_mode": {
    "name": "ipython",
    "version": 3
   },
   "file_extension": ".py",
   "mimetype": "text/x-python",
   "name": "python",
   "nbconvert_exporter": "python",
   "pygments_lexer": "ipython3",
   "version": "3.12.1"
  }
 },
 "nbformat": 4,
 "nbformat_minor": 2
}
